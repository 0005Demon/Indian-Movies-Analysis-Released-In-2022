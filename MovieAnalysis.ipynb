{
 "cells": [
  {
   "cell_type": "code",
   "execution_count": 1,
   "id": "0ea8b055",
   "metadata": {},
   "outputs": [],
   "source": [
    "#Importing Some Python Libraries\n",
    "from bs4 import BeautifulSoup\n",
    "import requests,csv"
   ]
  },
  {
   "cell_type": "code",
   "execution_count": 3,
   "id": "ddb1a73d",
   "metadata": {},
   "outputs": [],
   "source": [
    "#To Get The Requests \n",
    "r=requests.get('https://www.imdb.com/list/ls500849058/?sort=user_rating,desc&st_dt=&mode=detail&page=1')"
   ]
  },
  {
   "cell_type": "code",
   "execution_count": 4,
   "id": "97a86b73",
   "metadata": {},
   "outputs": [],
   "source": [
    "soup=BeautifulSoup(r.text,'html.parser')"
   ]
  },
  {
   "cell_type": "code",
   "execution_count": 6,
   "id": "212f231c",
   "metadata": {},
   "outputs": [],
   "source": [
    "Movie1 = soup.find('div', class_='lister-list').find_all('div', class_='lister-item mode-detail')\n",
    "\n",
    "# Create a list to store the movie details\n",
    "movies = []\n",
    "\n",
    "# Loop over the list of directors and the movies and print their details\n",
    "for movie in Movie1:\n",
    "    # Reset Director to an empty string at the start of each iteration\n",
    "    \n",
    "    Name = movie.find('h3').a.text\n",
    "    Duration = movie.find('p', class_='text-muted text-small').find('span', class_='runtime').text\n",
    "    Genre = movie.find('p', class_='text-muted text-small').find('span', class_='genre').text.strip()\n",
    "    Imdb = movie.find('div', class_='ipl-rating-star small').find('span', class_='ipl-rating-star__rating').text\n",
    "    data_value = movie.find('span', {'name': 'nv'})['data-value']\n",
    "    dubbed_div = movie.find('div', class_='list-description')\n",
    "    if dubbed_div is not None:\n",
    "        dubbed = dubbed_div.text.strip()\n",
    "    else:\n",
    "        dubbed = 'Not Dubbed'\n",
    "    Dir=movie.find_all('p', class_='text-muted text-small')\n",
    "    for D in Dir:\n",
    "        k=D.find('a')\n",
    "        if k is not None:\n",
    "            Director=k.text\n",
    "    # Append the movie details to the movies list\n",
    "    movies.append([Name, Duration, Genre, Imdb, data_value, dubbed, Director])\n",
    "\n",
    "# Write the movies list to a CSV file\n",
    "with open('Imdb.csv', 'w', newline='', encoding='utf-8') as file:\n",
    "    writer = csv.writer(file)\n",
    "    writer.writerow(['Name', 'Movie duration', 'Genre', 'IMDb', 'No of Votes', 'Dubbed Or Not', 'Director Name'])\n",
    "    writer.writerows(movies)\n",
    "\n"
   ]
  },
  {
   "cell_type": "code",
   "execution_count": 21,
   "id": "3b204b8d",
   "metadata": {},
   "outputs": [
    {
     "name": "stdout",
     "output_type": "stream",
     "text": [
      "Kiranraj K\n",
      "Madhavan\n",
      "Vivek Agnihotri\n",
      "Prashanth Neel\n",
      "Lokesh Kanagaraj\n",
      "Abhishek Pathak\n",
      "Sashi Kiran Tikka\n",
      "S.S. Rajamouli\n",
      "Sanjay Leela Bhansali\n",
      "Behzad Khambata\n",
      "Mani Ratnam\n",
      "Hitesh Bhatia\n",
      "Faruk Kabir\n",
      "Vasan Bala\n",
      "Mridul Toolsidas\n",
      "Nagraj Manjule\n",
      "Amar Kaushik\n",
      "Gowtam Tinnanuri\n",
      "Gayatri\n",
      "Sooraj R. Barjatya\n",
      "Anirudh Iyer\n",
      "Ajay Devgn\n",
      "Harshavardhan Kulkarni\n",
      "Sameer Saxena\n",
      "Vikas Bahl\n",
      "Sailesh Kolanu\n",
      "Lakshya Raj Anand\n",
      "Anubhuti Kashyap\n",
      "Mathukutty Xavier\n",
      "Prakash Raj\n",
      "Suresh Triveni\n",
      "Jasmeet K Reen\n",
      "Anubhav Sinha\n",
      "Raj Mehta\n",
      "Shanker Raman\n",
      "Shakun Batra\n",
      "Advait Chandan\n",
      "Ayan Mukerji\n"
     ]
    }
   ],
   "source": []
  },
  {
   "cell_type": "code",
   "execution_count": 20,
   "id": "f5fdca16",
   "metadata": {},
   "outputs": [
    {
     "name": "stdout",
     "output_type": "stream",
     "text": [
      "Kiranraj K\n",
      "Madhavan\n",
      "Vivek Agnihotri\n",
      "Prashanth Neel\n",
      "Lokesh Kanagaraj\n",
      "Abhishek Pathak\n",
      "Sashi Kiran Tikka\n",
      "S.S. Rajamouli\n",
      "Sanjay Leela Bhansali\n",
      "Behzad Khambata\n",
      "Mani Ratnam\n",
      "Hitesh Bhatia\n",
      "Faruk Kabir\n",
      "Vasan Bala\n",
      "Mridul Toolsidas\n",
      "Nagraj Manjule\n",
      "Amar Kaushik\n",
      "Gowtam Tinnanuri\n",
      "Gayatri\n",
      "Sooraj R. Barjatya\n",
      "Anirudh Iyer\n",
      "Ajay Devgn\n",
      "Harshavardhan Kulkarni\n",
      "Sameer Saxena\n",
      "Vikas Bahl\n",
      "Sailesh Kolanu\n",
      "Lakshya Raj Anand\n",
      "Anubhuti Kashyap\n",
      "Mathukutty Xavier\n",
      "Prakash Raj\n",
      "Suresh Triveni\n",
      "Jasmeet K Reen\n",
      "Anubhav Sinha\n",
      "Raj Mehta\n",
      "Shanker Raman\n",
      "Shakun Batra\n",
      "Advait Chandan\n",
      "Ayan Mukerji\n"
     ]
    }
   ],
   "source": []
  },
  {
   "cell_type": "code",
   "execution_count": 22,
   "id": "7bc7a9e8",
   "metadata": {},
   "outputs": [
    {
     "ename": "NameError",
     "evalue": "name 're' is not defined",
     "output_type": "error",
     "traceback": [
      "\u001b[1;31m---------------------------------------------------------------------------\u001b[0m",
      "\u001b[1;31mNameError\u001b[0m                                 Traceback (most recent call last)",
      "\u001b[1;32m~\\AppData\\Local\\Temp/ipykernel_4948/1812846428.py\u001b[0m in \u001b[0;36m<module>\u001b[1;34m\u001b[0m\n\u001b[0;32m     17\u001b[0m     \u001b[1;31m# Find the director's name for this movie\u001b[0m\u001b[1;33m\u001b[0m\u001b[1;33m\u001b[0m\u001b[1;33m\u001b[0m\u001b[0m\n\u001b[0;32m     18\u001b[0m     \u001b[0mdirector\u001b[0m \u001b[1;33m=\u001b[0m \u001b[1;34m''\u001b[0m\u001b[1;33m\u001b[0m\u001b[1;33m\u001b[0m\u001b[0m\n\u001b[1;32m---> 19\u001b[1;33m     \u001b[0mdirector_link\u001b[0m \u001b[1;33m=\u001b[0m \u001b[0mmovie_item\u001b[0m\u001b[1;33m.\u001b[0m\u001b[0mfind\u001b[0m\u001b[1;33m(\u001b[0m\u001b[1;34m'a'\u001b[0m\u001b[1;33m,\u001b[0m \u001b[1;33m{\u001b[0m\u001b[1;34m'href'\u001b[0m\u001b[1;33m:\u001b[0m \u001b[0mre\u001b[0m\u001b[1;33m.\u001b[0m\u001b[0mcompile\u001b[0m\u001b[1;33m(\u001b[0m\u001b[1;34mr'dr.*'\u001b[0m\u001b[1;33m)\u001b[0m\u001b[1;33m}\u001b[0m\u001b[1;33m)\u001b[0m\u001b[1;33m\u001b[0m\u001b[1;33m\u001b[0m\u001b[0m\n\u001b[0m\u001b[0;32m     20\u001b[0m     \u001b[1;32mif\u001b[0m \u001b[0mdirector_link\u001b[0m\u001b[1;33m:\u001b[0m\u001b[1;33m\u001b[0m\u001b[1;33m\u001b[0m\u001b[0m\n\u001b[0;32m     21\u001b[0m         \u001b[0mdirector\u001b[0m \u001b[1;33m=\u001b[0m \u001b[0mdirector_link\u001b[0m\u001b[1;33m.\u001b[0m\u001b[0mtext\u001b[0m\u001b[1;33m.\u001b[0m\u001b[0mstrip\u001b[0m\u001b[1;33m(\u001b[0m\u001b[1;33m)\u001b[0m\u001b[1;33m\u001b[0m\u001b[1;33m\u001b[0m\u001b[0m\n",
      "\u001b[1;31mNameError\u001b[0m: name 're' is not defined"
     ]
    }
   ],
   "source": [
    "\n"
   ]
  },
  {
   "cell_type": "code",
   "execution_count": null,
   "id": "d886a8c8",
   "metadata": {},
   "outputs": [],
   "source": []
  }
 ],
 "metadata": {
  "kernelspec": {
   "display_name": "Python 3 (ipykernel)",
   "language": "python",
   "name": "python3"
  },
  "language_info": {
   "codemirror_mode": {
    "name": "ipython",
    "version": 3
   },
   "file_extension": ".py",
   "mimetype": "text/x-python",
   "name": "python",
   "nbconvert_exporter": "python",
   "pygments_lexer": "ipython3",
   "version": "3.8.2"
  }
 },
 "nbformat": 4,
 "nbformat_minor": 5
}
